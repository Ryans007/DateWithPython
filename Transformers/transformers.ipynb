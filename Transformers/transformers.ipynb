{
 "cells": [
  {
   "cell_type": "code",
   "execution_count": 2,
   "metadata": {},
   "outputs": [],
   "source": [
    "import transformers\n",
    "from transformers import pipeline"
   ]
  },
  {
   "cell_type": "code",
   "execution_count": null,
   "metadata": {},
   "outputs": [],
   "source": [
    "question_answer_model = pipeline(\"question-answering\", \"timpal0l/mdeberta-v3-base-squad2\")"
   ]
  },
  {
   "cell_type": "code",
   "execution_count": 14,
   "metadata": {},
   "outputs": [],
   "source": [
    "texto = \"Robert John Downey Jr. (Nova Iorque, 4 de abril de 1965) é um ator e produtor norte-americano cujo trabalho como protagonista já arrecadou mais de US$ 14 bilhões mundialmente, consolidando-o como um dos atores de maior bilheteria da história. Sua carreira é marcada por um início promissor, seguido por um período turbulento devido a problemas com drogas e desentendimentos com a lei, até alcançar um renascimento de sucesso comercial e popular na década de 2000. Em 2008, foi incluído pela revista Time entre as 100 pessoas mais influentes do mundo, e entre 2013 e 2015 figurou como o ator mais bem pago de Hollywood, segundo a Forbes. Ganhador de diversos prêmios, como o Oscar de Melhor Ator Coadjuvante e o BAFTA por 'Oppenheimer' em 2024, Downey Jr. também recebeu honrarias ao longo da carreira por atuações em filmes como 'Chaplin' (1993) e 'Sherlock Holmes' (2010), além de séries como 'Ally McBeal' (2001).\"\n",
    "pergunta = \"Quais anos Robet John Downey jr. foi listado pela Forbes como ator mais bem pado de Hollywood?\"\n",
    "resposta = question_answer_model(question=pergunta, context=texto)"
   ]
  },
  {
   "cell_type": "code",
   "execution_count": null,
   "metadata": {},
   "outputs": [
    {
     "name": "stdout",
     "output_type": "stream",
     "text": [
      "Pergunta: Quais anos Robet John Downey jr. foi listado pela Forbes como ator mais bem pado de Hollywood?\n",
      "Resposta:  2013 e 2015\n",
      "Score: 0.5786687731742859\n"
     ]
    }
   ],
   "source": [
    "print(f'Pergunta: {pergunta}\\n'\n",
    "      f'Resposta: {resposta['answer']}\\n'\n",
    "      f'Score: {resposta['score']}')"
   ]
  }
 ],
 "metadata": {
  "kernelspec": {
   "display_name": "venv",
   "language": "python",
   "name": "python3"
  },
  "language_info": {
   "codemirror_mode": {
    "name": "ipython",
    "version": 3
   },
   "file_extension": ".py",
   "mimetype": "text/x-python",
   "name": "python",
   "nbconvert_exporter": "python",
   "pygments_lexer": "ipython3",
   "version": "3.12.3"
  }
 },
 "nbformat": 4,
 "nbformat_minor": 2
}
